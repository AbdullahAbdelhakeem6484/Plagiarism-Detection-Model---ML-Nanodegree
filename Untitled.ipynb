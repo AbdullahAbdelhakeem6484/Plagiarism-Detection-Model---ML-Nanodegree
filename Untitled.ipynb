{
 "cells": [
  {
   "cell_type": "code",
   "execution_count": 3,
   "id": "081bee8a",
   "metadata": {},
   "outputs": [],
   "source": [
    "rm -f ~/workspace.tar.gz && rm  -f ~/work/workspace.tar.gz"
   ]
  },
  {
   "cell_type": "code",
   "execution_count": 6,
   "id": "81a90a57",
   "metadata": {},
   "outputs": [
    {
     "ename": "SyntaxError",
     "evalue": "invalid syntax (<ipython-input-6-5a73991e725a>, line 1)",
     "output_type": "error",
     "traceback": [
      "\u001b[0;36m  File \u001b[0;32m\"<ipython-input-6-5a73991e725a>\"\u001b[0;36m, line \u001b[0;32m1\u001b[0m\n\u001b[0;31m    tar -czf workspace.tar.gz ~/work\u001b[0m\n\u001b[0m                     ^\u001b[0m\n\u001b[0;31mSyntaxError\u001b[0m\u001b[0;31m:\u001b[0m invalid syntax\n"
     ]
    }
   ],
   "source": [
    "tar -czf ~/workspace.tar.gz ~/work"
   ]
  },
  {
   "cell_type": "code",
   "execution_count": 5,
   "id": "0704113b",
   "metadata": {},
   "outputs": [
    {
     "name": "stdout",
     "output_type": "stream",
     "text": [
      "mv: cannot stat ‘/home/ec2-user/workspace.tar.gz’: No such file or directory\r\n"
     ]
    }
   ],
   "source": [
    "mv ~/workspace.tar.gz ~/work/workspace.tar.gz"
   ]
  },
  {
   "cell_type": "code",
   "execution_count": null,
   "id": "76e2c59d",
   "metadata": {},
   "outputs": [],
   "source": []
  }
 ],
 "metadata": {
  "kernelspec": {
   "display_name": "conda_python3",
   "language": "python",
   "name": "conda_python3"
  },
  "language_info": {
   "codemirror_mode": {
    "name": "ipython",
    "version": 3
   },
   "file_extension": ".py",
   "mimetype": "text/x-python",
   "name": "python",
   "nbconvert_exporter": "python",
   "pygments_lexer": "ipython3",
   "version": "3.6.13"
  }
 },
 "nbformat": 4,
 "nbformat_minor": 5
}
